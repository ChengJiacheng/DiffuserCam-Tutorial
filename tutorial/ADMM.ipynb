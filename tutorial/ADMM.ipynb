{
 "cells": [
  {
   "cell_type": "markdown",
   "metadata": {
    "nbpresent": {
     "id": "94352bc4-5d30-4c60-90c2-f06efdda32d4"
    }
   },
   "source": [
    "# Alternating Direction Method of Multipliers\n",
    "\n",
    "Although gradient descent is a reliable algorithm that is guaranteed to converge, it is still slow. If we want to process larger sets of data (e.g. 3D imaging), have a live feed of DiffuserCam, or just want to process images more quickly, we need to tailor the algorithm more closely to the optical system involved. While this introduces more tuning parameters (\"knobs\" to turn), speed of reconstruction can be drastically improved. Here we present (without proof) the result of using <i>alternating direction method of multipiers (ADMM)</i> to  reconstruct the image.\n",
    "\n",
    "For background on ADMM, please refer to sections 2 and 3 of: http://stanford.edu/~boyd/papers/pdf/admm_distr_stats.pdf. To understand this document, background knowledge from Chapters 5 (Duality) and 9 (Unconstrained minimization) from https://web.stanford.edu/~boyd/cvxbook/bv_cvxbook.pdf may be necessary.\n",
    "\n",
    "For a detailed derivation of the update steps as they apply to our system, refer to the companion documents to this notebook (specific sections will be referenced)."
   ]
  },
  {
   "cell_type": "markdown",
   "metadata": {
    "nbpresent": {
     "id": "fdbd16f2-58f1-4e28-9ff5-35d07e9433b5"
    }
   },
   "source": [
    "#### Generic setup code (load psf, etc.)"
   ]
  },
  {
   "cell_type": "code",
   "execution_count": 1,
   "metadata": {
    "collapsed": true,
    "nbpresent": {
     "id": "f66e7c6c-13da-4ce5-9839-ccac7f73b1ff"
    }
   },
   "outputs": [],
   "source": [
    "%matplotlib inline\n",
    "import numpy as np\n",
    "import numpy.fft as fft\n",
    "from PIL import Image\n",
    "import matplotlib.pyplot as plt\n",
    "from IPython import display"
   ]
  },
  {
   "cell_type": "markdown",
   "metadata": {
    "nbpresent": {
     "id": "33a9e6d2-f181-4bd6-bb65-561ee7e83b03"
    }
   },
   "source": [
    "The code takes in two grayscale images: a point spread function (PSF) $\\texttt{psfname}$ and a sensor measurement $\\texttt{imgname}$. The images can be downsampled by a factor $f$, which is a power of $\\frac{1}{2}$"
   ]
  },
  {
   "cell_type": "code",
   "execution_count": 24,
   "metadata": {
    "collapsed": true,
    "nbpresent": {
     "id": "c41464d1-b9f7-4992-9cff-a2bdb9f09efc"
    }
   },
   "outputs": [],
   "source": [
    "\"\"\"Stuff that is normally in the config file\"\"\"\n",
    "psfname = \"./psf_sample.tif\"\n",
    "imgname = \"./rawdata_hand_sample.tif\"\n",
    "\n",
    "# Downsampling factor (used to shrink images)\n",
    "f = 0.25\n",
    "\n",
    "# Hyper-parameters in the ADMM implementation (like step size in GD)\n",
    "mu1 = 1e-6\n",
    "mu2 = 1e-5\n",
    "mu3 = 4e-5\n",
    "tau = 0.0001\n",
    "\n",
    "# Number of iterations\n",
    "iters = 5"
   ]
  },
  {
   "cell_type": "code",
   "execution_count": 25,
   "metadata": {
    "collapsed": true,
    "nbpresent": {
     "id": "6de9ccb4-62ed-4a53-a909-3a0066a9569f"
    }
   },
   "outputs": [],
   "source": [
    "def loadData(show_im=True):\n",
    "    psf = Image.open(psfname)\n",
    "    psf = np.array(psf, dtype='float32')\n",
    "    data = Image.open(imgname)\n",
    "    data = np.array(data, dtype='float32')\n",
    "    \n",
    "    \"\"\"In the picamera, there is a non-trivial background \n",
    "    (even in the dark) that must be subtracted\"\"\"\n",
    "    bg = np.mean(psf[5:15,5:15]) \n",
    "    psf -= bg\n",
    "    data -= bg\n",
    "    \n",
    "    \"\"\"Resize to a more manageable size to do reconstruction on. \n",
    "    Because resizing is downsampling, it is subject to aliasing \n",
    "    (artifacts produced by the periodic nature of sampling). Demosaicing is an attempt\n",
    "    to account for/reduce the aliasing caused. In this application, we do the simplest\n",
    "    possible demosaicing algorithm: smoothing/blurring the image with a box filter\"\"\"\n",
    "    \n",
    "    def resize(img, factor):\n",
    "        num = int(-np.log2(factor))\n",
    "        for i in range(num):\n",
    "            img = 0.25*(img[::2,::2,...]+img[1::2,::2,...]+img[::2,1::2,...]+img[1::2,1::2,...])\n",
    "        return img\n",
    "    \n",
    "    \n",
    "    psf = resize(psf, f)\n",
    "    data = resize(data, f)\n",
    "    \n",
    "    \"\"\"Now we normalize the images so they have the same total power. Technically not a\n",
    "    necessary step, but the optimal hyperparameters are a function of the total power in \n",
    "    the PSF (among other things), so it makes sense to standardize it\"\"\"\n",
    "    \n",
    "    psf /= np.linalg.norm(psf.ravel())\n",
    "    data /= np.linalg.norm(data.ravel())\n",
    "    \n",
    "    if show_im:\n",
    "        fig1 = plt.figure()\n",
    "        plt.imshow(psf, cmap='gray')\n",
    "        plt.title('PSF')\n",
    "#         display.display(fig1)\n",
    "        fig2 = plt.figure()\n",
    "        plt.imshow(data, cmap='gray')\n",
    "        plt.title('Raw data')\n",
    "#         display.display(fig2)\n",
    "    return psf, data"
   ]
  },
  {
   "cell_type": "code",
   "execution_count": 26,
   "metadata": {
    "collapsed": false,
    "nbpresent": {
     "id": "615f33bb-7a4e-448c-8b61-d76a5f0596ff"
    }
   },
   "outputs": [
    {
     "data": {
      "image/png": "[encoded data removed]",
      "text/plain": [
       "<matplotlib.figure.Figure at 0x109332860>"
      ]
     },
     "metadata": {},
     "output_type": "display_data"
    },
    {
     "data": {
      "image/png": "[encoded data removed]",
      "text/plain": [
       "<matplotlib.figure.Figure at 0x1096a2668>"
      ]
     },
     "metadata": {},
     "output_type": "display_data"
    }
   ],
   "source": [
    "\"\"\"The \"uncropped\" size of the image. As with the gradient descent, we pad the images \n",
    "so that convolution is linear instead of circular\"\"\"\n",
    "psf, data = loadData(True)\n",
    "sensor_size = np.array(psf.shape)\n",
    "full_size = 2*sensor_size"
   ]
  },
  {
   "cell_type": "markdown",
   "metadata": {
    "nbpresent": {
     "id": "9456d509-7f14-4c11-93cf-10067798f899"
    }
   },
   "source": [
    "$\\newcommand\\sensorco{\\mathbf{x}} % vector containing (x,y) sensor coordinates$\n",
    "$\\newcommand\\objectco{\\bm \\xi} % vector containing (x,y) object coordinates$\n",
    "$\\newcommand\\measurementvec{\\mathbf{b}}$\n",
    "$\\newcommand\\measurementmtx{\\mathbf{M}}$\n",
    "$\\newcommand\\full{\\mathbf{A}}$\n",
    "$\\newcommand\\imagevec{\\mathbf{v}}$\n",
    "$\\newcommand{\\crop}{\\mathbf{C}}$\n",
    "$\\newcommand{\\rhcomment}[1]{{\\bf{{\\blue{{RH --- #1}}}}}}$\n",
    "$\\newcommand{\\argmin}{\\text{argmin }}$\n",
    "\n",
    "Recall the objective function:\n",
    "\n",
    "\\begin{equation} \\begin{aligned} \\hat{\\imagevec} = \\underset{w\\geq 0,u,x}{\\argmin}&\\frac{1}{2}\\|\\measurementvec - \\crop x\\|_2^2  + \\tau \\|u\\|_1\\\\ \\mbox{s.t. } &x = \\measurementmtx \\imagevec, w = \\imagevec\\text{,} \\end{aligned} \\end{equation}\n",
    "\n",
    "For reference, the corresponding ADMM update steps derived in the companion document are:\n",
    "\\begin{align*}\n",
    "    u_{k+1} &\\leftarrow \\mathcal{T}_{\\frac{\\tau}{\\mu_2}} \\left(\\Psi \\imagevec_k + \\frac{\\eta_k}{\\mu_2}\\right) \\\\\n",
    "    x_{k+1} &\\leftarrow \\left(\\crop^H \\crop + \\mu_1 I\\right)^{-1}\n",
    "\\left(\\xi_k + \\mu_1 \\mathbf{M}\\imagevec_k + \\crop^H \\measurementvec\\right) \\\\\n",
    "w_{k+1} &\\leftarrow \\max(\\rho_k/\\mu_3 +\\imagevec_k, 0) \\\\\n",
    "\\imagevec_{k+1} &\\leftarrow (\\mu_1 \\mathbf{M}^H \\mathbf{M} + \\mu_2 \\Psi^H \\Psi + \\mu_3 I)^{-1} r_k, \\\\\n",
    "    \\xi_{k+1} & \\leftarrow \\xi_k + \\mu_1(\\measurementmtx \\imagevec_k - x_{k+1}) \\\\\n",
    "    \\eta_{k+1} & \\leftarrow \\eta_k + \\mu_2(\\Psi \\imagevec_{k+1} - u_{k+1}) \\\\\n",
    "    \\rho_{k+1} & \\leftarrow \\rho_k + \\mu_3(\\imagevec_{k+1} - w_{k+1})\n",
    "\\end{align*}\n",
    "where $$r_k = (\\mu_3 w_{k+1} - \\rho_k) + \\Psi^H(\\mu_2 u_{k+1} - \\eta_k) + \\mathbf{M}^H (\\mu_1 x_{k+1} - \\xi_k).$$"
   ]
  },
  {
   "cell_type": "markdown",
   "metadata": {
    "nbpresent": {
     "id": "9fb404c8-947c-46f2-9eed-91ec4fb1787c"
    }
   },
   "source": [
    "## We now demonstrate how each of these updates is implemented."
   ]
  },
  {
   "cell_type": "markdown",
   "metadata": {
    "nbpresent": {
     "id": "d4a8f79e-c1cf-4c33-9273-032fadd54802"
    }
   },
   "source": [
    "### The $u$-update (total variation update)\n",
    "\\begin{equation}\n",
    "u_{k+1} \\leftarrow \\mathcal{T}_{\\frac{\\tau}{\\mu_2}} \\left(\\Psi \\imagevec_k + \\eta_k/\\mu_2\\right)\n",
    "\\end{equation}"
   ]
  },
  {
   "cell_type": "code",
   "execution_count": 5,
   "metadata": {
    "collapsed": true,
    "nbpresent": {
     "id": "a52987ce-525d-4302-b974-3d2445d0f685"
    }
   },
   "outputs": [],
   "source": [
    "def U_update(eta, image_est, tau):\n",
    "    return SoftThresh(Psi(image_est) + eta/mu2, tau/mu2)"
   ]
  },
  {
   "cell_type": "markdown",
   "metadata": {
    "nbpresent": {
     "id": "e9096a42-db28-461d-93b2-162d0027892c"
    }
   },
   "source": [
    "#### Implementing $\\mathcal{T}$\n",
    "$\\mathcal{T}$ is a <i>soft-thresholding</i> operator: we zero out all values within $\\tau/\\mu_2$ of $0$, and all other components of the vector are decreased in magnitude by $\\tau/\\mu_2$. Note that $\\tau$ and $\\mu_2$ are regularization \"hyperparameters\" -- constants we can tune to increase or decrease the effect of different terms in the objective function. For example, increasing $\\tau$ increases the contribution of $\\|u\\|_1$ to the objective function, so the solution has lower total variation and more \"defined\" edges. \n",
    "\n",
    "A clean way of writing soft-thresholding component-wise is:\n",
    "\n",
    "$$\\left[\\mathcal{T}_{\\tau} (x)\\right]_i = \\mathrm{sgn}(x_i)\\max(0,|x_i| - \\tau)$$"
   ]
  },
  {
   "cell_type": "code",
   "execution_count": 6,
   "metadata": {
    "collapsed": true,
    "nbpresent": {
     "id": "4a18b2ba-374f-4a5d-9808-ef3d3e39d3c4"
    }
   },
   "outputs": [],
   "source": [
    "def SoftThresh(x, tau):\n",
    "    # numpy automatically applies functions to each element of the array\n",
    "    return np.sign(x)*np.maximum(0, np.abs(x) - tau)"
   ]
  },
  {
   "cell_type": "markdown",
   "metadata": {
    "collapsed": true,
    "nbpresent": {
     "id": "c2bb0e47-a985-4a40-8cd7-762d3f993186"
    }
   },
   "source": [
    "#### Implementing $\\Psi$\n",
    "$\\Psi \\imagevec_k$ is the gradient of the image estimate (whose norm is the \"total variation\" of the image). Because images are made of discrete pixels, we approximate this gradient by a finite-difference. Here we choose to use the 2D forward-difference with a circular boundary condition, defined by the following relation. See Section 2.2 of the Appendix for an explanation of the boundary condition:\n",
    "$$\\Psi v_{ij} = \\begin{bmatrix}v_{i+1,j} - v_{i,j} \\\\ v_{i,j+1}-v_{i,j} \\end{bmatrix}$$\n",
    "\n",
    "The choice of finite difference does not have a large effect on the final result, as long as the corresponding adjoint (see the $\\imagevec$-update) is calculated correctly.\n",
    "\n",
    "We implement the pixel-wise definition above in parallel using numpy operations: $\\texttt{np.roll}$ shifts the image circularly, so if we subtract $\\texttt{v}$ from $\\texttt{np.roll(v,1,axis=0)}$ we perform all the row-wise finite differences in a single matrix subtraction. We can do the same for the column differences. \n",
    "\n",
    "$\\Psi$ maps a pixel to a length-2 vector, where the first element is the row difference and the second is the column difference. $\\texttt{np.stack}$ allows us to do this for every pixel in the image using the matrices calculated with $\\texttt{roll}$. For an $n \\times m$ image $v$, $\\Psi(v)$ returns a $n\\times m \\times 2$ stack of two images (the horizontal and vertical differences)."
   ]
  },
  {
   "cell_type": "code",
   "execution_count": 7,
   "metadata": {
    "collapsed": true,
    "nbpresent": {
     "id": "967aa626-0b20-4de7-b0f9-e91eb7bd2dec"
    }
   },
   "outputs": [],
   "source": [
    "def Psi(v):\n",
    "    return np.stack((np.roll(v,1,axis=0) - v, np.roll(v, 1, axis=1) - v), axis=2)"
   ]
  },
  {
   "cell_type": "markdown",
   "metadata": {
    "nbpresent": {
     "id": "3ec312c3-e6ec-4760-a626-c71d5e4f0b15"
    }
   },
   "source": [
    "### The $x$-update (uncropped image update)\n",
    "$$x_{k+1} \\leftarrow \\left(\\crop^H \\crop + \\mu_1 I\\right)^{-1}\n",
    "\\left(\\xi_k + \\mu_1 \\measurementmtx\\imagevec_k + \\crop^H \\measurementvec\\right)$$"
   ]
  },
  {
   "cell_type": "code",
   "execution_count": 8,
   "metadata": {
    "collapsed": true,
    "nbpresent": {
     "id": "c34a80e1-cd90-48e3-9cdf-5b078e882552"
    }
   },
   "outputs": [],
   "source": [
    "def X_update(xi, image_est, H_fft, sensor_reading, X_divmat):\n",
    "    return X_divmat * (xi + mu1*M(image_est, H_fft) + CT(sensor_reading))"
   ]
  },
  {
   "cell_type": "markdown",
   "metadata": {
    "collapsed": true,
    "nbpresent": {
     "id": "113b4653-2e21-447d-a066-ec41b3f731ee"
    }
   },
   "source": [
    "#### Implementing $\\measurementmtx$\n",
    "First consider the right-hand part of the update, which doesn't require any inversion. $\\xi_k$ is one of the dual variables, so we will cover how it is calculated later. $\\mu_1$ is a hyperparameter like above.\n",
    "\n",
    "$\\measurementmtx$ is the convolution operator:\n",
    "$$\\measurementmtx \\imagevec_k \\iff h \\ast v_k,$$ where $h$ is the point spread function of the diffuser. We implement this convolution in the same way that we did in the gradient descent algorithm:\n",
    "$$h \\ast v = \\mathcal{F}^{-1} \\left\\{(\\mathcal{F}(h))\\cdot (\\mathcal{F}(v))\\right\\} = \\ \\texttt{crop}\\left[\\ \\texttt{DFT}^{-1}\\left\\{\\ \\texttt{DFT} [\\ \\texttt{pad}[h]\\ ]\\cdot\\texttt{DFT}[\\ \\texttt{pad}[v]\\ ]\\ \\right\\} \\right]$$\n",
    "\n",
    "However, there are 2 details that change the implementation slightly. First, due to our variable splitting, we've actually absorbed the \"sensor crop\" (which crops the image from $\\texttt{full_size}$ to $\\texttt{sensor_size}$) into the $\\crop$ operator. So, we don't need to crop down the convolution at this stage; it will be taken care of separately. Second, we can precalculate the padded DFT of $h$ (denoted $\\texttt{H}\\_\\texttt{fft}$ in code) and our input $v_k$ is already padded (it has the dimensions of $\\texttt{full_size}$). So, there is no need to pad them again.\n",
    "\n",
    "Thus our final form for $\\measurementmtx$ is:\n",
    "$$\\texttt{DFT}^{-1} \\left[ \\texttt{DFT}[v_k] \\cdot \\texttt{H}\\_\\texttt{fft} \\right]$$"
   ]
  },
  {
   "cell_type": "code",
   "execution_count": 9,
   "metadata": {
    "collapsed": true,
    "nbpresent": {
     "id": "917a9256-ec5f-4604-9a2e-dc5ffb6c9fef"
    }
   },
   "outputs": [],
   "source": [
    "def M(vk, H_fft):\n",
    "    return np.real(fft.fftshift(fft.ifft2(fft.fft2(fft.ifftshift(vk))*H_fft)))"
   ]
  },
  {
   "cell_type": "markdown",
   "metadata": {
    "nbpresent": {
     "id": "d3eef2da-3d8e-42fb-a312-4f723fe4131d"
    }
   },
   "source": [
    "#### Implementing $\\crop^H$ and $\\crop$\n",
    "The next term is $\\crop^H \\measurementvec$. First, as defined in the \"Guide to modeling and algorithms\", $\\crop$ is the operator that accounts for the sensor cropping (it crops from size $\\texttt{full_size}$ to size $\\texttt{sensor_size}$). The adjoint $\\crop^H$ zero-pads an image of size $\\texttt{sensor_size}$ to an image of size $\\texttt{full_size}$. We have chosen $\\texttt{full_size}$ in such a way that it provides enough padding to make circular and linear convolutions look the same <i>after being cropped back down to $\\texttt{sensor_size}$</i>. \n",
    "\n",
    "We implement $\\crop^H$ by padding the sensor reading $\\measurementvec$ \"up\" to $\\texttt{full_size}$:"
   ]
  },
  {
   "cell_type": "code",
   "execution_count": 10,
   "metadata": {
    "collapsed": true,
    "nbpresent": {
     "id": "33120b45-0633-4720-9662-e236e6230d6b"
    }
   },
   "outputs": [],
   "source": [
    "def C(M):\n",
    "    # Image stored as matrix (row-column rather than x-y)\n",
    "    top = (full_size[0] - sensor_size[0])//2\n",
    "    bottom = (full_size[0] + sensor_size[0])//2\n",
    "    left = (full_size[1] - sensor_size[1])//2\n",
    "    right = (full_size[1] + sensor_size[1])//2\n",
    "    return M[top:bottom,left:right]\n",
    "\n",
    "def CT(b):\n",
    "    v_pad = (full_size[0] - sensor_size[0])//2\n",
    "    h_pad = (full_size[1] - sensor_size[1])//2\n",
    "    return np.pad(b, ((v_pad, v_pad), (h_pad, h_pad)), 'constant',constant_values=(0,0))"
   ]
  },
  {
   "cell_type": "markdown",
   "metadata": {
    "nbpresent": {
     "id": "663450a6-29c7-4ec4-b31b-f9cc2cf100a3"
    }
   },
   "source": [
    "#### Implementing $\\left(\\crop^H \\crop + \\mu_1 I\\right)^{-1}$\n",
    "Lastly, the inverse term. While we have largely avoided dealing with the actual matrices used to represent operators such as cropping, convolution, and padding, here we need to consider what they look like, because inverting the operators efficiently will implicitly use properties of the matrix representation.\n",
    "\n",
    "Let's go through the process with a linear function (or operator) $O$ that operates on images. Let $\\mathbf{O}$ be the matrix corresponding to that operator. Recall from (writeup) that if $O$ operates on $m\\times n$ images, then $\\mathbf{O}$ is an $mn \\times mn$-dimensional matrix, operating on vectorized images of length $mn$. \n",
    "\n",
    "Now consider the image $y = O(x)$. In matrix vector form, we can write this as $\\mathbf{y} = \\mathbf{O}\\mathbf{x}$. This equation tells us explicitly that every pixel $\\mathbf{y}_j$ is a linear combination of the pixels in $\\mathbf{x}$: $\\mathbf{y}_j = \\sum_i\\mathbf{O}_{ij} x_i$.\n",
    "\n",
    "So, if $\\mathbf{O}$ is diagonal, then we find $\\mathbf{y}_j = \\mathbf{O}_{jj} x_j$. In other words, a diagonal operator $O$ <i>scales the $j$th pixel by factor</i> $\\mathbf{O}_{jj}$! Importantly, the inverse of a diagonal matrix is also diagonal, with all the entries inverted. So, the inverse operator $O^{-1}$ also scales each pixel individually, now by factor $\\dfrac{1}{\\mathbf{O}_{jj}}$ (remember that $j$ is an index we give to the pixel based on the vectorized image). The main idea is that we can multiply each pixel by the appropriate weight without regard to other pixels in the image, which can easily be done in parallel.\n",
    "\n",
    "Now we apply the process for $\\mathbf{O} = (\\crop^H \\crop + \\mu_1 I)$: \n",
    "\n",
    "$\\crop^H \\crop$ is a crop down to an image of size $\\texttt{sensor_size}$ and then a zero-pad back up to $\\texttt{full_size}$. In other words, it zeros out any pixels outside of the cropped region, and leaves everything inside the cropped region untouched. We know this corresponds to a diagonal matrix because it is pointwise multiplication of each pixel by either a $0$ or a $1$. So, $\\mathbf{O}$ corresponds to a pointwise multiplication of every pixel by either $0 + \\mu_1$ or $1 + \\mu_1$. The inverse of this operator is thus pointwise multiplication of every pixel by either $\\dfrac{1}{\\mu_1}$ or $\\dfrac{1}{1 + \\mu_1}$.\n",
    "\n",
    "\n",
    "Later, we will see an example of inversion where the operator is diagonalizable in a different, non-standard basis (not pixel-wise) -- the basic idea will remain the same."
   ]
  },
  {
   "cell_type": "markdown",
   "metadata": {
    "nbpresent": {
     "id": "49795cb4-af52-460e-82bb-3f98834a075b"
    }
   },
   "source": [
    "Since $\\mathbf{O}^{-1}$ doesn't change with each iteration, we <i>precompute</i> the entries. Whenever we need to calculate its action on an image, we use numpy element-wise division with the stored entries.\n",
    "We create the multiplication mask of $\\mu_1$'s and $1+\\mu_1$'s by first creating the submask of ones (with size $\\texttt{sensor_size}$) using $\\texttt{np.ones}$. We can pad to the right size using the zero-pad function $\\texttt{CT}$:"
   ]
  },
  {
   "cell_type": "code",
   "execution_count": 11,
   "metadata": {
    "collapsed": true,
    "nbpresent": {
     "id": "c9e0e0d1-b310-474e-8067-f6056b08c9d1"
    }
   },
   "outputs": [],
   "source": [
    "def precompute_X_divmat(): \n",
    "    \"\"\"Only call this function once! \n",
    "    Store it in a variable and only use that variable \n",
    "    during every update step\"\"\"\n",
    "    return 1./(CT(np.ones(sensor_size)) + mu1)"
   ]
  },
  {
   "cell_type": "markdown",
   "metadata": {
    "nbpresent": {
     "id": "95048729-1711-42b8-bbf3-2c157bc83c7f"
    }
   },
   "source": [
    "### The $w$-update (non-negativity update)\n",
    "$$w_{k+1} \\leftarrow \\max(\\rho_k/\\mu_3 +\\imagevec_k, 0)$$"
   ]
  },
  {
   "cell_type": "markdown",
   "metadata": {
    "nbpresent": {
     "id": "13fed02c-f48e-41d5-beba-83fbef4fdaa8"
    }
   },
   "source": [
    "Updates for $\\rho_k$ and $\\imagevec_k$ will be calculated later, so we can assume we have the variables while implementing $w_{k+1}$. "
   ]
  },
  {
   "cell_type": "code",
   "execution_count": 12,
   "metadata": {
    "collapsed": true,
    "nbpresent": {
     "id": "23959c15-0882-40cf-b7ae-338133b080aa"
    }
   },
   "outputs": [],
   "source": [
    "def W_update(rho, image_est):\n",
    "    return np.maximum(rho/mu3 + image_est, 0)"
   ]
  },
  {
   "cell_type": "markdown",
   "metadata": {
    "nbpresent": {
     "id": "c26e0918-7f6e-4954-b80a-b888a65e8f64"
    }
   },
   "source": [
    "### The $\\imagevec$-update (Image estimate update!)\n",
    "$$\\imagevec_{k+1} \\leftarrow (\\mu_1 \\measurementmtx^H \\measurementmtx + \\mu_2 \\Psi^H \\Psi + \\mu_3 I)^{-1} r_k,$$\n",
    "where $$r_k = (\\mu_3 w_{k+1} - \\rho_k) + \\Psi^H(\\mu_2 u_{k+1} - \\eta_k) + \\measurementmtx^H (\\mu_1 x_{k+1} - \\xi_k)$$\n",
    "\n",
    "While long, most of these terms are expressions involving other variables that have already been calculated. There are three things that require new calculations: $\\Psi^H$ (adjoint of finite difference), $\\measurementmtx^H$ (adjoint of convolution), and the large inverse."
   ]
  },
  {
   "cell_type": "code",
   "execution_count": 13,
   "metadata": {
    "collapsed": true,
    "nbpresent": {
     "id": "236fe7d5-46f0-44b1-bd4d-6ed4fcee9d16"
    }
   },
   "outputs": [],
   "source": [
    "def r_calc(w, rho, u, eta, x, xi, H_fft):\n",
    "    return (mu3*w - rho)+PsiT(mu2*u - eta) + MT(mu1*x - xi, H_fft)\n",
    "\n",
    "def V_update(w, rho, u, eta, x, xi, H_fft, R_divmat):\n",
    "    freq_space_result = R_divmat*fft.fft2( fft.ifftshift(r_calc(w, rho, u, eta, x, xi, H_fft)) )\n",
    "    return np.real(fft.fftshift(fft.ifft2(freq_space_result)))"
   ]
  },
  {
   "cell_type": "markdown",
   "metadata": {
    "nbpresent": {
     "id": "49843a3c-ad8f-45ab-9702-f5b166ae8d23"
    }
   },
   "source": [
    "####  Implementing $\\Psi^H$\n",
    "We calculate the adjoint of the finite difference in the appendix of the companion document. Because $\\Psi$ maps a single image to two images stacked on top of each other, $\\Psi^H$ must map a stack of two images to a single image. Let each \"pixel\" in the stack be $u_{ij} = \\begin{bmatrix} u_{ij}^x & u_{ij}^y \\end{bmatrix}^H$.\n",
    "\n",
    "Then, $$\\Psi^H u_{ij} = (u_{i-1,j}^x - u_{i,j}^x) + (u_{i,j-1}^y - u_{i,j}^y)$$\n",
    "\n",
    "In words, the adjoint of the 2D forward difference (i.e. of the form $v_{j+1}- v_j$) is the sum of two backward differences (i.e. of the form $u_{i-1} - u_i$). \n",
    "\n",
    "Again, since all the boundary conditions are circular, we can use $\\texttt{np.roll}$ to help us parallelize the pixel-wise differences. $\\texttt{PsiT}$ takes in an $n\\times m \\times 2$ matrix and outputs a $n\\times m$ matrix."
   ]
  },
  {
   "cell_type": "code",
   "execution_count": 14,
   "metadata": {
    "collapsed": true,
    "nbpresent": {
     "id": "13e47fc2-0e3d-42b9-a2af-3333cc538131"
    }
   },
   "outputs": [],
   "source": [
    "def PsiT(U):\n",
    "    diff1 = np.roll(U[...,0],-1,axis=0) - U[...,0]\n",
    "    diff2 = np.roll(U[...,1],-1,axis=1) - U[...,1]\n",
    "    return diff1 + diff2"
   ]
  },
  {
   "cell_type": "markdown",
   "metadata": {
    "nbpresent": {
     "id": "f327dc5d-c2b9-4c54-84be-a34023623598"
    }
   },
   "source": [
    "#### Implementing $\\measurementmtx^H$\n",
    "\n",
    "This is the adjoint of the convolution operator, which we calculated in the implementation of gradient descent as:\n",
    "$$\\measurementmtx^H x = \\mathcal{F}^{-1}\\left\\{ \\mathcal{F}(\\mathbf{h})^* \\cdot \\mathcal{F}\\left(\\text{pad}[x]\\right)\\right\\}$$\n",
    "\n",
    "Again, our input is already padded and we can pre-calculate the DFT of $h$. So, we get $$\\measurementmtx^H x = \\texttt{DFT}^{-1} \\left[ \\texttt{DFT}[x] \\cdot \\texttt{H}\\_\\texttt{fft}^* \\right]$$"
   ]
  },
  {
   "cell_type": "code",
   "execution_count": 15,
   "metadata": {
    "collapsed": true,
    "nbpresent": {
     "id": "8f7e602e-12ad-4d35-b9ff-eb90b53c8cc0"
    }
   },
   "outputs": [],
   "source": [
    "def MT(x, H_fft):\n",
    "    x_zeroed = fft.ifftshift(x)\n",
    "    return np.real(fft.fftshift(fft.ifft2(fft.fft2(x_zeroed) * np.conj(H_fft))))"
   ]
  },
  {
   "cell_type": "markdown",
   "metadata": {
    "nbpresent": {
     "id": "d1806d5e-d06a-4177-a994-9628a655df05"
    }
   },
   "source": [
    "#### Implementing $(\\mu_1 \\measurementmtx^H \\measurementmtx + \\mu_2 \\Psi^H \\Psi + \\mu_3 I)^{-1}$"
   ]
  },
  {
   "cell_type": "markdown",
   "metadata": {
    "nbpresent": {
     "id": "3bccfb56-0d7a-41ed-bf78-5cef5558eb0f"
    }
   },
   "source": [
    "If we try to calculate the matrix entries for acting $\\mu_1 \\measurementmtx^H \\measurementmtx$ on a vectorized image like before, we find that the product is not diagonal, because convolutions can depend on many different pixels at once by definition. \n",
    "\n",
    "In general, large matrix inverses are the main bottleneck in an algorithm; we need to be careful to make sure that all inverses involved in our algorithm are easily calculated via some method that doesn't require instantiating the matrix. In the previous case, we were lucky because <i>both</i> $\\crop^H \\crop$ and $\\mu_1 I$ are diagonalizable <i>in the same standard basis</i>, so multiplying by its inverse is the same as dividing by the summed entries. Our only option here is to find a different basis where all the terms are diagonalizable.\n",
    "\n",
    "In fact, the matrix corresponding to $\\measurementmtx^H \\measurementmtx$ is not diagonal in the standard basis precisely because it is diagonal in a different basis! As we showed in the Gradient Descent notebook: \n",
    "$$\\begin{align}\n",
    "\\measurementmtx^H \\measurementmtx \\imagevec &= \\mathbf{F}^{-1} \\mathrm{diag}(\\mathbf{Fh})^* \\ \\mathrm{diag}(\\mathbf{Fh}) \\ \\mathbf{F} \\imagevec \\\\\n",
    "&= \\mathcal{F}^{-1} \\left\\{ \\mid\\mathcal{F}h \\mid^2 \\cdot (\\mathcal{F}v) \\right\\},\n",
    "\\end{align}$$\n",
    "\n",
    "we find that it performs pixel-wise multiplication in the <i>Fourier</i> (frequency) space. In other words, $\\measurementmtx^H \\measurementmtx$ is diagonal if we take a Fourier transform first. If we wanted to efficiently calculate the inverse $(\\mu_1 \\measurementmtx^H \\measurementmtx)^{-1}$, we would do a DFT to switch to frequency space, do division by the values of $\\mid\\mathcal{F}h\\mid^2$ in that space, and then inverse DFT to get back to standard (pixel) basis. "
   ]
  },
  {
   "cell_type": "markdown",
   "metadata": {
    "nbpresent": {
     "id": "19872d7f-6703-4137-8f38-654c9b6ff29a"
    }
   },
   "source": [
    "However, the inverse we wish to calculate has other terms as well, so we can only use this method if $\\Psi^H \\Psi$ and $I$ are also diagonalizable by a Fourier transform. Since $\\mathcal{F}^{-1} I \\mathcal{F} = I$, the identity is diagonalizable. \n",
    "\n",
    "We knew $\\measurementmtx^H \\measurementmtx$ was diagonalizable by a Fourier Transform because it was a convolution. So, to show $\\Psi^H \\Psi$ is also diagonalizable by a Fourier transform we must write $\\Psi^H \\Psi \\imagevec = \\Psi^H \\left(\\Psi \\imagevec \\right)$ as a convolution between $\\imagevec$ and a fixed kernel.\n",
    "To that end, in 2D the forward difference acted on the $i,j$th pixel looks like:\n",
    "$$\\begin{align}\n",
    "\\Psi v_{ij} &= \\begin{bmatrix}v_{i+1,j} - v_{i,j} \\\\ v_{i,j+1}-v_{i,j}\\end{bmatrix}\\\\\n",
    "&= \\begin{bmatrix} \n",
    "\\begin{bmatrix}0 & -1 & 1\\end{bmatrix} \\cdot \\begin{bmatrix}v_{i-1,j} & v_{i,j}& v_{i+1,j}\\end{bmatrix}\\\\ \n",
    "\\begin{bmatrix}0 \\\\ -1 \\\\ 1 \\end{bmatrix} \\cdot \\begin{bmatrix}v_{i,j-1} \\\\ v_{i,j} \\\\ v_{i,j+1}\\end{bmatrix} \n",
    "\\end{bmatrix} \\\\\n",
    "\\end{align}$$\n",
    "The above formula holds for every pixel in the image (assuming the same circular boundary conditions that are used to derive $\\Psi^H$ itself). This formula is also the pointwise definition of cross-correlation with the <i>non-vectorized</i> image $v$:\n",
    "$$\n",
    "\\Psi \\imagevec = \n",
    "\\begin{bmatrix} \n",
    "\\begin{bmatrix}0 & 0 & 0 \\\\ 0 & -1 & 1 \\\\ 0 & 0 & 0\\end{bmatrix} \\star v \n",
    "\\\\\n",
    "\\begin{bmatrix} 0 & 0 & 0 \\\\ 0 & -1 & 0 \\\\ 0 & 1 & 0 \\end{bmatrix} \\star v\n",
    "\\end{bmatrix}, \\\\\n",
    "$$\n",
    "where we have written both the row-wise and column-wise pixel differences in terms of a cross-correlation, just with two different \"kernels.\" \n",
    "\n",
    "Let's call the row (top) kernel $k_{RF}$ and the column (bottom) kernel $k_{CF}$, where the \"$F$\" stands for forward difference.\n",
    "\n",
    "Using exactly the same process with $\\Psi^H$ (and the stack of two images $u$ defined as above):\n",
    "$$ \\Psi^H u = -k_{RB} \\star u^x - k_{CB} \\star u^y, $$\n",
    "where the \"B\" stands for backwards difference.\n",
    "\n",
    "So, \n",
    "\\begin{align}\n",
    "\\Psi^H \\Psi \\imagevec &= \\Psi^H \n",
    "                                 \\begin{bmatrix}k_{RF} \\star v \\\\ k_{CF} \\star v\\end{bmatrix} \\\\\n",
    "                              &= -k_{RB} \\star \\left(k_{RF} \\star v\\right) - k_{CB} \\star \\left( k_{CF} \\star v \\right) \n",
    "\\end{align}\n",
    "At this point, we cannot simplify the operations because cross-correlations are not associative -- we need to reformulate the expression in terms of _convolutions_. So, we use the property that cross-correlation with a kernel $k$ is equivalent to convolution with the _flipped_ kernel $k'$ where we flip horizontally _and_ vertically. For example, if $k = \\begin{bmatrix} 0 & -1 & 1\\end{bmatrix}$, then $k' = \\begin{bmatrix} 1 & -1 & 0 \\end{bmatrix}$. If $k = \\begin{bmatrix} 0 \\\\ -1 \\\\ 1 \\end{bmatrix}$ then $k' = \\begin{bmatrix} 1 \\\\ -1 \\\\ 0\\end{bmatrix}$. Flipping the kernels and using associativity of convolution, we find:\n",
    "\\begin{align}\n",
    "    \\Psi^H \\Psi \\imagevec &= -k_{RB} \\star \\left(k_{RF} \\star v\\right) - k_{CB} \\star \\left( k_{CF} \\star v \\right) \\\\\n",
    "                                  &= -k_{RB}' \\ast \\left(k_{RF}' \\ast v\\right) - k_{CB}' \\ast \\left( k_{CF}' \\ast v\\right) \\\\\n",
    "                                  &= -\\left[(k_{RB}' \\ast k_{RF}') + (k_{CB}' \\ast k_{CF}')\\right] \\ast v\n",
    "\\end{align}\n",
    "\n",
    "Finally, we again use the convolution theorem: for any $k, v$, $ k \\ast v = \\mathcal{F}^{-1} \\{ \\mathcal{F}(k) \\cdot \\mathcal{F}(v) \\} $. Thus, setting $k = -(k_{RB}' \\ast k_{RF}') - (k_{CB}' \\ast k_{CF}')$, we have that\n",
    "$$\n",
    "\\\\\n",
    "\\Psi^H \\Psi \\imagevec = \\mathcal{F}^{-1} \\{ \\mathcal{F}(k) \\cdot \\mathcal{F}(v) \\},\n",
    "\\\\\n",
    "$$\n",
    "which corresponds to pixel-wise multiplication by $\\mathcal{F}(k)$ in the Fourier space.\n",
    "\n",
    "To summarize, in matrix form, the inverse term can be written as \n",
    "$$\n",
    "\\begin{align}\n",
    "\\\\\n",
    "(\\mu_1 \\measurementmtx^H \\measurementmtx + \\mu_2 \\Psi^H \\Psi + \\mu_3 I)^{-1} &=\n",
    "(\\mu_1 \\mathbf{F}^{-1} D_M \\mathbf{F} + \\mu_2 \\mathbf{F}^{-1} D_{\\Psi} \\mathbf{F} + \\mu_3 \\mathbf{F}^{-1} \\mathbf{F})^{-1} \\\\\n",
    "&= \\mathbf{F}^{-1} (\\mu_1 D_M + \\mu_2 D_{\\Psi} + \\mu_3)^{-1} \\mathbf{F}, \\\\\n",
    "\\end{align}\n",
    "$$\n",
    "\n",
    "where $D_M$ and $D_{\\Psi}$ are the diagonal operators corresponding to $\\mathbf{M}^H \\mathbf{M}$ and $\\Psi^H \\Psi$ implemented using pixel-wise multiplication in the Fourier space:\n",
    "\n",
    "\\begin{cases}\n",
    "D_M = \\mathrm{diag}(|\\mathcal{F}(h)|^2) \\\\\n",
    "D_{\\Psi} = \\mathrm{diag}(\\mathcal{F}(\\texttt{pad}(k))),\n",
    "\\end{cases} \n",
    "\n",
    "where the $\\texttt{pad}$ is used just to make the kernel the same size as the image. \n",
    "\n",
    "What is that kernel?\n",
    "$$\n",
    "\\begin{align}\n",
    "\\\\\n",
    "k &= -[(k_{RB}' \\ast k_{RF}') + (k_{CB}' \\ast k_{CF}')] \\\\ \\\\\n",
    "  &= -\\left(\\begin{bmatrix}\n",
    "                      0 & 0 & 0 \\\\ \n",
    "                      0 & 1 & -1 \\\\ \n",
    "                      0 & 0 & 0\n",
    "                      \\end{bmatrix} \\ast\n",
    "             \\begin{bmatrix}\n",
    "                      0 & 0 & 0 \\\\ \n",
    "                      1 & -1 & 0 \\\\ \n",
    "                      0 & 0 & 0\n",
    "                      \\end{bmatrix} \\right) -\n",
    "     \\left(\\begin{bmatrix}\n",
    "                      0 & 0 & 0 \\\\ \n",
    "                      0 & 1 & 0 \\\\ \n",
    "                      0 & -1 & 0\n",
    "                      \\end{bmatrix} \\ast\n",
    "           \\begin{bmatrix}\n",
    "                      0 & 1 & 0 \\\\ \n",
    "                      0 & -1 & 0 \\\\ \n",
    "                      0 & 0 & 0\n",
    "                      \\end{bmatrix} \\right) \\\\ \\\\\n",
    "   &= -\\begin{bmatrix}\n",
    "0 & 0 & 0 & 0 & 0 \\\\\n",
    "0 & 0 & 0 & 0 & 0 \\\\\n",
    "0 & 1 & -2 & 1 & 0 \\\\\n",
    "0 & 0 & 0 & 0 & 0 \\\\\n",
    "0 & 0 & 0 & 0 & 0 \n",
    "\\end{bmatrix} -\n",
    "\\begin{bmatrix}\n",
    "0 & 0 & 0 & 0 & 0 \\\\\n",
    "0 & 0 & 1 & 0 & 0 \\\\\n",
    "0 & 0 & -2 & 0 & 0 \\\\\n",
    "0 & 0 & 1 & 0 & 0 \\\\\n",
    "0 & 0 & 0 & 0 & 0 \n",
    "\\end{bmatrix}\n",
    "\\\\ \\\\ &=\n",
    "\\begin{bmatrix}\n",
    "0 & 0 & 0 & 0 & 0 \\\\\n",
    "0 & 0 & -1 & 0 & 0 \\\\\n",
    "0 & -1 & 4 & -1 & 0 \\\\\n",
    "0 & 0 & -1 & 0 & 0 \\\\\n",
    "0 & 0 & 0 & 0 & 0 \n",
    "\\end{bmatrix}\n",
    "\\end{align}\n",
    "$$\n",
    "\n",
    "Following the convention established in the gradient descent notebook, since this is a Fourier space mask, we store it already shifted so that the origin (4) is in the corner:"
   ]
  },
  {
   "cell_type": "code",
   "execution_count": 16,
   "metadata": {
    "collapsed": true,
    "nbpresent": {
     "id": "42a33a3a-859a-4e6c-ba34-12cc2bae3dbe"
    }
   },
   "outputs": [],
   "source": [
    "def precompute_PsiTPsi():\n",
    "    PsiTPsi = np.zeros(full_size)\n",
    "    PsiTPsi[0,0] = 4\n",
    "    PsiTPsi[0,1] = PsiTPsi[1,0] = PsiTPsi[0,-1] = PsiTPsi[-1,0] = -1\n",
    "    PsiTPsi = fft.fft2(PsiTPsi)\n",
    "    return PsiTPsi"
   ]
  },
  {
   "cell_type": "markdown",
   "metadata": {
    "nbpresent": {
     "id": "8cc3e714-9f72-4985-bb99-50bab1a456cf"
    }
   },
   "source": [
    "So, to calculate the inverse operator, we do a DFT to convert to Fourier space, divide the $i,j$th pixel by the $i,j$th entry in $\\left(\\mu_1 |\\mathcal{F}(h)|^2 + \\mu_2 \\mathcal{F}(k)^* + \\mu_3\\right)$, and inverse DFT to convert back to real space. As usual, the pixel-wise division can be done in parallel."
   ]
  },
  {
   "cell_type": "code",
   "execution_count": 17,
   "metadata": {
    "collapsed": true,
    "nbpresent": {
     "id": "249117e1-e650-423c-9228-0124123f99a8"
    }
   },
   "outputs": [],
   "source": [
    "def precompute_R_divmat(H_fft, PsiTPsi): \n",
    "    \"\"\"Only call this function once! \n",
    "    Store it in a variable and only use that variable \n",
    "    during every update step\"\"\"\n",
    "    MTM_component = mu1*(np.abs(np.conj(H_fft)*H_fft))\n",
    "    PsiTPsi_component = mu2*np.abs(PsiTPsi)\n",
    "    id_component = mu3\n",
    "    \"\"\"This matrix is a mask in frequency space. So we will only use\n",
    "    it on images that have already been transformed via an fft\"\"\"\n",
    "    return 1./(MTM_component + PsiTPsi_component + id_component)"
   ]
  },
  {
   "cell_type": "markdown",
   "metadata": {
    "nbpresent": {
     "id": "42b1ed4f-eefb-46d2-96e8-cd4e53854626"
    }
   },
   "source": [
    "### Dual updates:\n",
    "\\begin{align*}\n",
    "    \\xi_{k+1} & \\leftarrow \\xi_k + \\mu_1(\\measurementmtx \\imagevec_k - x_{k+1}) \\\\\n",
    "    \\eta_{k+1} & \\leftarrow \\eta_k + \\mu_2(\\Psi \\imagevec_{k+1} - u_{k+1}) \\\\\n",
    "    \\rho_{k+1} & \\leftarrow \\rho_k + \\mu_3(\\imagevec_{k+1} - w_{k+1})\n",
    "\\end{align*}"
   ]
  },
  {
   "cell_type": "code",
   "execution_count": 18,
   "metadata": {
    "collapsed": true,
    "nbpresent": {
     "id": "e8b04d22-06d0-4162-a90d-be68dec8f477"
    }
   },
   "outputs": [],
   "source": [
    "def xi_update(xi, V, H_fft, X):\n",
    "    return xi + mu1*(M(V,H_fft) - X)\n",
    "\n",
    "def eta_update(eta, V, U):\n",
    "    return eta + mu2*(Psi(V) - U)\n",
    "\n",
    "def rho_update(rho, V, W):\n",
    "    return rho + mu3*(V - W)"
   ]
  },
  {
   "cell_type": "markdown",
   "metadata": {
    "nbpresent": {
     "id": "41dc9225-bbc7-4f06-b54f-408d4ca3c1b2"
    }
   },
   "source": [
    "## Putting it all together"
   ]
  },
  {
   "cell_type": "markdown",
   "metadata": {
    "nbpresent": {
     "id": "2f7731ec-277b-4cb3-84a5-7435eeac6532"
    }
   },
   "source": [
    "First, we initialize all the primal and dual variables. Note that the dimensions matter -- we use $\\texttt{full_size}$ as the \"uncropped\" image size. The primal variables $x, w, \\imagevec$ all take on this dimension. $u$ is the result of a gradient, which (as is shown below) must be the size of two stacked images. The dual variable dimensions can be derived by applying their update rule to the primal variables."
   ]
  },
  {
   "cell_type": "code",
   "execution_count": 19,
   "metadata": {
    "collapsed": true,
    "nbpresent": {
     "id": "7d1aba26-1fba-4fd0-b9f9-e2cfd4b79783"
    }
   },
   "outputs": [],
   "source": [
    "def init_Matrices(H_fft):\n",
    "    X = np.zeros(full_size)\n",
    "    U = np.zeros((full_size[0], full_size[1], 2))\n",
    "    V = np.zeros(full_size)\n",
    "    W = np.zeros(full_size)\n",
    "\n",
    "    xi = np.zeros_like(M(V,H_fft))\n",
    "    eta = np.zeros_like(Psi(V))\n",
    "    rho = np.zeros_like(W)\n",
    "    return X,U,V,W,xi,eta,rho"
   ]
  },
  {
   "cell_type": "code",
   "execution_count": 20,
   "metadata": {
    "collapsed": true,
    "nbpresent": {
     "id": "a4df11b6-41f4-4161-8e67-93c3928f1f9c"
    }
   },
   "outputs": [],
   "source": [
    "def precompute_H_fft(psf):\n",
    "    return fft.fft2(fft.ifftshift(CT(psf)))"
   ]
  },
  {
   "cell_type": "markdown",
   "metadata": {
    "nbpresent": {
     "id": "2d5305a8-1877-41c7-a904-e25505b0e119"
    }
   },
   "source": [
    "Again, the ADMM steps for reference:\n",
    "\\begin{align*}\n",
    "    u_{k+1} &\\leftarrow \\mathcal{T}_{\\frac{\\tau}{\\mu_2}} \\left(\\Psi \\imagevec_k + \\frac{\\eta_k}{\\mu_2}\\right) \\\\\n",
    "    x_{k+1} &\\leftarrow \\left(\\crop^H \\crop + \\mu_1 I\\right)^{-1}\n",
    "\\left(\\xi_k + \\mu_1 \\mathbf{M}\\imagevec_k + \\crop^H \\measurementvec\\right) \\\\\n",
    "w_{k+1} &\\leftarrow \\max(\\rho_k/\\mu_3 +\\imagevec_k, 0) \\\\\n",
    "\\imagevec_{k+1} &\\leftarrow (\\mu_1 \\mathbf{M}^H \\mathbf{M} + \\mu_2 \\Psi^H \\Psi + \\mu_3 I)^{-1} r_k, \\\\\n",
    "    \\xi_{k+1} & \\leftarrow \\xi_k + \\mu_1(\\measurementmtx \\imagevec_k - x_{k+1}) \\\\\n",
    "    \\eta_{k+1} & \\leftarrow \\eta_k + \\mu_2(\\Psi \\imagevec_{k+1} - u_{k+1}) \\\\\n",
    "    \\rho_{k+1} & \\leftarrow \\rho_k + \\mu_3(\\imagevec_{k+1} - w_{k+1})\n",
    "\\end{align*}"
   ]
  },
  {
   "cell_type": "code",
   "execution_count": 21,
   "metadata": {
    "collapsed": true,
    "nbpresent": {
     "id": "8dbba370-3398-4f9a-8a0e-c5e5ac294892"
    }
   },
   "outputs": [],
   "source": [
    "def ADMMStep(X,U,V,W,xi,eta,rho, precomputed):\n",
    "    H_fft, data, X_divmat, R_divmat = precomputed\n",
    "    U = U_update(eta, V, tau)\n",
    "    X = X_update(xi, V, H_fft, data, X_divmat)\n",
    "    V = V_update(W, rho, U, eta, X, xi, H_fft, R_divmat)\n",
    "    W = W_update(rho, V)\n",
    "    xi = xi_update(xi, V, H_fft, X)\n",
    "    eta = eta_update(eta, V, U)\n",
    "    rho = rho_update(rho, V, W)\n",
    "    \n",
    "    return X,U,V,W,xi,eta,rho"
   ]
  },
  {
   "cell_type": "code",
   "execution_count": 22,
   "metadata": {
    "collapsed": true,
    "nbpresent": {
     "id": "de8d3f77-6237-458a-bb81-c2297af9f55d"
    }
   },
   "outputs": [],
   "source": [
    "def runADMM(psf, data):\n",
    "    H_fft = precompute_H_fft(psf)\n",
    "    X,U,V,W,xi,eta,rho = init_Matrices(H_fft)\n",
    "    X_divmat = precompute_X_divmat()\n",
    "    PsiTPsi = precompute_PsiTPsi()\n",
    "    R_divmat = precompute_R_divmat(H_fft, PsiTPsi)\n",
    "    \n",
    "    for i in range(iters):\n",
    "        X,U,V,W,xi,eta,rho = ADMMStep(X,U,V,W,xi,eta,rho, [H_fft, data, X_divmat, R_divmat])\n",
    "        if i % 1 == 0:\n",
    "            image = C(V)\n",
    "            image[image<0] = 0\n",
    "            f = plt.figure(1)\n",
    "            plt.imshow(image, cmap='gray')\n",
    "            plt.title('Reconstruction after iteration {}'.format(i))\n",
    "            display.display(f)\n",
    "            display.clear_output(wait=True)\n",
    "    return image"
   ]
  },
  {
   "cell_type": "code",
   "execution_count": 23,
   "metadata": {
    "collapsed": false,
    "nbpresent": {
     "id": "86e59a8d-3c3e-423b-a21f-ddd93cfd56bd"
    }
   },
   "outputs": [
    {
     "data": {
      "image/png": "[encoded data removed]",
      "text/plain": [
       "<matplotlib.figure.Figure at 0x109834e48>"
      ]
     },
     "metadata": {},
     "output_type": "display_data"
    }
   ],
   "source": [
    "#psf, data = loadData(True)\n",
    "final_im = runADMM(psf, data)\n",
    "plt.imshow(final_im, cmap='gray')\n",
    "plt.title('Final reconstructed image after {} iterations'.format(iters))\n",
    "display.display()\n"
   ]
  },
  {
   "cell_type": "code",
   "execution_count": null,
   "metadata": {
    "collapsed": true
   },
   "outputs": [],
   "source": []
  }
 ],
 "metadata": {
  "kernelspec": {
   "display_name": "Python 3",
   "language": "python",
   "name": "python3"
  },
  "language_info": {
   "codemirror_mode": {
    "name": "ipython",
    "version": 3
   },
   "file_extension": ".py",
   "mimetype": "text/x-python",
   "name": "python",
   "nbconvert_exporter": "python",
   "pygments_lexer": "ipython3",
   "version": "3.5.2"
  }
 },
 "nbformat": 4,
 "nbformat_minor": 2
}
